{
 "cells": [
  {
   "cell_type": "markdown",
   "metadata": {
    "ExecuteTime": {
     "end_time": "2017-10-27T05:48:23.326596Z",
     "start_time": "2017-10-27T05:48:23.319206Z"
    }
   },
   "source": [
    "# Data Incubator\n",
    "---\n",
    "\n",
    "---"
   ]
  },
  {
   "cell_type": "code",
   "execution_count": 6,
   "metadata": {
    "ExecuteTime": {
     "end_time": "2017-10-29T20:29:55.634094Z",
     "start_time": "2017-10-29T20:29:55.608489Z"
    }
   },
   "outputs": [
    {
     "name": "stdout",
     "output_type": "stream",
     "text": [
      "Vutsal Singhal\n",
      "last updated: Sun Oct 29 2017 16:29:55 EDT\n",
      "numpy 1.13.3\n",
      "pandas 0.20.3\n",
      "matplotlib 2.0.2\n",
      "2017-10-29T16:29:55-04:00\n",
      "\n",
      "CPython 3.5.2\n",
      "IPython 6.2.1\n",
      "\n",
      "compiler   : GCC 5.4.0 20160609\n",
      "system     : Linux\n",
      "release    : 4.10.0-37-generic\n",
      "machine    : x86_64\n",
      "processor  : x86_64\n",
      "CPU cores  : 8\n",
      "interpreter: 64bit\n"
     ]
    }
   ],
   "source": [
    "#Metadata\n",
    "%load_ext watermark\n",
    "%watermark -a \"Vutsal Singhal\"\n",
    "%watermark -u -n -t -z\n",
    "%watermark -p numpy,pandas,matplotlib\n",
    "%watermark"
   ]
  },
  {
   "cell_type": "markdown",
   "metadata": {},
   "source": [
    "---\n",
    "# Q1.\n",
    "\n",
    "**A knight in standard international chess is sitting on a board as follows**\n",
    "\n",
    "      0   1   2   3 \n",
    "      4   5   6   7 \n",
    "      8   9  10  11 \n",
    "     12  13  14  15 \n",
    "\n",
    "**The knight starts on square \"0\" and makes T jumps to other squares according to the allowable moves in Chess (so that at each space, it has between two to four valid moves). The knight chooses amongst the allowable moves at each jump uniformly at random and keeps track of the running sum S of keys on which it lands. See below for specific questions and answers.**"
   ]
  },
  {
   "cell_type": "code",
   "execution_count": 1,
   "metadata": {
    "ExecuteTime": {
     "end_time": "2017-10-30T18:03:01.573792Z",
     "start_time": "2017-10-30T18:03:01.482192Z"
    }
   },
   "outputs": [],
   "source": [
    "from random import randint\n",
    "import numpy as np\n",
    "\n",
    "chess_board = [[0,1,2,3],[4,5,6,7],[8,9,10,11],[12,13,14,15]]"
   ]
  },
  {
   "cell_type": "code",
   "execution_count": 2,
   "metadata": {
    "ExecuteTime": {
     "end_time": "2017-10-30T18:03:01.925308Z",
     "start_time": "2017-10-30T18:03:01.879686Z"
    }
   },
   "outputs": [],
   "source": [
    "def new_coordinates(x, y):\n",
    "\n",
    "    while True:\n",
    "        dx, dy = 1, 2\n",
    "        r = randint(0, 7)\n",
    "        if r % 2:\n",
    "            dx, dy = dy, dx\n",
    "        if (r >> 1) % 2:\n",
    "            dx = -dx\n",
    "        if (r >> 2) % 2:\n",
    "            dy = -dy\n",
    "\n",
    "        newx, newy = x + dx, y + dy\n",
    "        if (newx >= 0 and newx < 4 and newy >= 0 and newy < 4):\n",
    "            return (newx, newy)\n",
    "\n",
    "def random_walk(t):\n",
    "    x, y = x0, y0 = 0, 0\n",
    "    count = 0\n",
    "    t_sum = 0\n",
    "    while True:\n",
    "        x, y = new_coordinates(x, y)\n",
    "        t_sum += chess_board[y][x]\n",
    "        count += 1\n",
    "        if count == t:\n",
    "            return t_sum\n",
    "        elif x == x0 and y == y0:\n",
    "            return t_sum\n",
    "\n",
    "t_sum = []\n",
    "num_reps = 100000"
   ]
  },
  {
   "cell_type": "markdown",
   "metadata": {},
   "source": [
    "**Q1.i) After T=16 moves, what is the mean of the quantity S modulo 13? What is the standard deviation?**"
   ]
  },
  {
   "cell_type": "code",
   "execution_count": 11,
   "metadata": {
    "ExecuteTime": {
     "end_time": "2017-10-30T17:55:06.531889Z",
     "start_time": "2017-10-30T17:55:02.490505Z"
    }
   },
   "outputs": [
    {
     "name": "stdout",
     "output_type": "stream",
     "text": [
      "Mean sum of T=16 modulo 13:  8.764439999999993\n",
      "Std. Dev:  52.3108066415\n"
     ]
    }
   ],
   "source": [
    "for i in range(num_reps):\n",
    "    t_sum.append(random_walk(16))\n",
    "print(\"Mean sum of T=16 modulo 13: \",(sum(t_sum)/float(num_reps))%13)\n",
    "print(\"Std. Dev: \",np.std(t_sum, axis=0))"
   ]
  },
  {
   "cell_type": "markdown",
   "metadata": {},
   "source": [
    "**Q1.ii) After T=16 moves, what is the probability that the sum is divisible by 5, given that it is divisible by 13?**"
   ]
  },
  {
   "cell_type": "code",
   "execution_count": 12,
   "metadata": {
    "ExecuteTime": {
     "end_time": "2017-10-30T17:55:42.143775Z",
     "start_time": "2017-10-30T17:55:42.130697Z"
    }
   },
   "outputs": [
    {
     "name": "stdout",
     "output_type": "stream",
     "text": [
      "After T=16 moves, what's the probability that the sum is divisible by 13, given it's divisible by 5?:  0.01614\n"
     ]
    }
   ],
   "source": [
    "t_sum1 = [i for i in t_sum if i%65 == 0]\n",
    "print(\"After T=16 moves, what's the probability that the sum is divisible by 13, given it's divisible by 5?: \",len(t_sum1)/len(t_sum))"
   ]
  },
  {
   "cell_type": "markdown",
   "metadata": {
    "ExecuteTime": {
     "end_time": "2017-10-30T17:51:51.478994Z",
     "start_time": "2017-10-30T17:51:51.475674Z"
    }
   },
   "source": [
    "**Q1.iii) Q1.i After T=512 moves, what is the mean of the quantity S modulo 311? What is the standard deviation?**"
   ]
  },
  {
   "cell_type": "code",
   "execution_count": 3,
   "metadata": {
    "ExecuteTime": {
     "end_time": "2017-10-30T18:03:15.878877Z",
     "start_time": "2017-10-30T18:03:06.151136Z"
    }
   },
   "outputs": [
    {
     "name": "stdout",
     "output_type": "stream",
     "text": [
      "Mean sum of T=512 modulo 311:  179.78033\n",
      "Std. Dev:  236.580462792\n"
     ]
    }
   ],
   "source": [
    "for i in range(num_reps):\n",
    "    t_sum.append(random_walk(512))\n",
    "print(\"Mean sum of T=512 modulo 311: \",(sum(t_sum)/float(num_reps))%311)\n",
    "print(\"Std. Dev: \",np.std(t_sum, axis=0))"
   ]
  },
  {
   "cell_type": "markdown",
   "metadata": {},
   "source": [
    "**Q1.iv) After T=512 moves, what is the probability that the sum is divisible by 7, given that it is divisible by 43?**"
   ]
  },
  {
   "cell_type": "code",
   "execution_count": 4,
   "metadata": {
    "ExecuteTime": {
     "end_time": "2017-10-30T18:03:15.934518Z",
     "start_time": "2017-10-30T18:03:15.924902Z"
    }
   },
   "outputs": [
    {
     "name": "stdout",
     "output_type": "stream",
     "text": [
      "After T=512 moves, what's the probability that the sum is divisible by 7, given it's divisible by 43?:  0.00119\n"
     ]
    }
   ],
   "source": [
    "t_sum1 = [i for i in t_sum if i%310 == 0]\n",
    "print(\"After T=512 moves, what's the probability that the sum is divisible by 7, given it's divisible by 43?: \",len(t_sum1)/float(len(t_sum)))"
   ]
  },
  {
   "cell_type": "markdown",
   "metadata": {},
   "source": [
    "---\n",
    "\n",
    "---\n",
    "# Q2\n",
    "\n",
    "The UK has a [dataset](https://data.gov.uk/dataset/road-accidents-safety-data) on vehicle accidents. Please dowload the \"2014 All STATS19 data (accident, casualties and vehicle tables) for 2005 to 2014.\" Information on the variables can be found at the bottom of the page under additional links. In addition, the form which is used to record data by police officers can be found [here](http://docs.adrn.ac.uk/888043/mrdoc/pdf/888043_stats19-road-accident-injury-statistics-report-form.pdf)."
   ]
  },
  {
   "cell_type": "code",
   "execution_count": 24,
   "metadata": {
    "ExecuteTime": {
     "end_time": "2017-10-29T20:48:47.652703Z",
     "start_time": "2017-10-29T20:48:47.646869Z"
    }
   },
   "outputs": [],
   "source": [
    "import numpy as np\n",
    "import pandas as pd\n",
    "from matplotlib import pyplot as plt\n",
    "%matplotlib inline"
   ]
  },
  {
   "cell_type": "markdown",
   "metadata": {},
   "source": [
    "## Import data"
   ]
  },
  {
   "cell_type": "code",
   "execution_count": 25,
   "metadata": {
    "ExecuteTime": {
     "end_time": "2017-10-29T20:49:26.747575Z",
     "start_time": "2017-10-29T20:49:26.736871Z"
    }
   },
   "outputs": [],
   "source": [
    "accident_file   = \"Stats19_Data_2005_2014/Accidents0514.csv\"\n",
    "casualties_file = \"Stats19_Data_2005_2014/Casualties0514.csv\"\n",
    "vehicles_file   = \"Stats19_Data_2005_2014/Vehicles0514.csv\"\n",
    "\n",
    "#accident_data   = pd.read_csv(accident_file)\n",
    "#casualties_data = pd.read_csv(casualties_file)\n",
    "#vehicles_data    = pd.read_csv(vehicles_file)"
   ]
  },
  {
   "cell_type": "code",
   "execution_count": 5,
   "metadata": {
    "ExecuteTime": {
     "end_time": "2017-10-27T15:15:39.968320Z",
     "start_time": "2017-10-27T15:15:39.940972Z"
    }
   },
   "outputs": [
    {
     "data": {
      "text/plain": [
       "['Accident_Index',\n",
       " 'Location_Easting_OSGR',\n",
       " 'Location_Northing_OSGR',\n",
       " 'Longitude',\n",
       " 'Latitude',\n",
       " 'Police_Force',\n",
       " 'Accident_Severity',\n",
       " 'Number_of_Vehicles',\n",
       " 'Number_of_Casualties',\n",
       " 'Date',\n",
       " 'Day_of_Week',\n",
       " 'Time',\n",
       " 'Local_Authority_(District)',\n",
       " 'Local_Authority_(Highway)',\n",
       " '1st_Road_Class',\n",
       " '1st_Road_Number',\n",
       " 'Road_Type',\n",
       " 'Speed_limit',\n",
       " 'Junction_Detail',\n",
       " 'Junction_Control',\n",
       " '2nd_Road_Class',\n",
       " '2nd_Road_Number',\n",
       " 'Pedestrian_Crossing-Human_Control',\n",
       " 'Pedestrian_Crossing-Physical_Facilities',\n",
       " 'Light_Conditions',\n",
       " 'Weather_Conditions',\n",
       " 'Road_Surface_Conditions',\n",
       " 'Special_Conditions_at_Site',\n",
       " 'Carriageway_Hazards',\n",
       " 'Urban_or_Rural_Area',\n",
       " 'Did_Police_Officer_Attend_Scene_of_Accident',\n",
       " 'LSOA_of_Accident_Location']"
      ]
     },
     "execution_count": 5,
     "metadata": {},
     "output_type": "execute_result"
    }
   ],
   "source": [
    "list(accident_data)"
   ]
  },
  {
   "cell_type": "code",
   "execution_count": 12,
   "metadata": {
    "ExecuteTime": {
     "end_time": "2017-10-27T18:19:36.118925Z",
     "start_time": "2017-10-27T18:19:36.113108Z"
    }
   },
   "outputs": [
    {
     "data": {
      "text/plain": [
       "['Accident_Index',\n",
       " 'Vehicle_Reference',\n",
       " 'Vehicle_Type',\n",
       " 'Towing_and_Articulation',\n",
       " 'Vehicle_Manoeuvre',\n",
       " 'Vehicle_Location-Restricted_Lane',\n",
       " 'Junction_Location',\n",
       " 'Skidding_and_Overturning',\n",
       " 'Hit_Object_in_Carriageway',\n",
       " 'Vehicle_Leaving_Carriageway',\n",
       " 'Hit_Object_off_Carriageway',\n",
       " '1st_Point_of_Impact',\n",
       " 'Was_Vehicle_Left_Hand_Drive?',\n",
       " 'Journey_Purpose_of_Driver',\n",
       " 'Sex_of_Driver',\n",
       " 'Age_of_Driver',\n",
       " 'Age_Band_of_Driver',\n",
       " 'Engine_Capacity_(CC)',\n",
       " 'Propulsion_Code',\n",
       " 'Age_of_Vehicle',\n",
       " 'Driver_IMD_Decile',\n",
       " 'Driver_Home_Area_Type']"
      ]
     },
     "execution_count": 12,
     "metadata": {},
     "output_type": "execute_result"
    }
   ],
   "source": [
    "list(vehicles_data)"
   ]
  },
  {
   "cell_type": "code",
   "execution_count": 3,
   "metadata": {
    "ExecuteTime": {
     "end_time": "2017-10-27T18:22:30.530526Z",
     "start_time": "2017-10-27T18:22:30.523327Z"
    }
   },
   "outputs": [
    {
     "data": {
      "text/plain": [
       "['Accident_Index',\n",
       " 'Vehicle_Reference',\n",
       " 'Casualty_Reference',\n",
       " 'Casualty_Class',\n",
       " 'Sex_of_Casualty',\n",
       " 'Age_of_Casualty',\n",
       " 'Age_Band_of_Casualty',\n",
       " 'Casualty_Severity',\n",
       " 'Pedestrian_Location',\n",
       " 'Pedestrian_Movement',\n",
       " 'Car_Passenger',\n",
       " 'Bus_or_Coach_Passenger',\n",
       " 'Pedestrian_Road_Maintenance_Worker',\n",
       " 'Casualty_Type',\n",
       " 'Casualty_Home_Area_Type']"
      ]
     },
     "execution_count": 3,
     "metadata": {},
     "output_type": "execute_result"
    }
   ],
   "source": [
    "list(casualties_data)"
   ]
  },
  {
   "cell_type": "markdown",
   "metadata": {},
   "source": [
    "---\n",
    "<br>**Q2.i) What fraction of accidents occur in urban areas?**"
   ]
  },
  {
   "cell_type": "code",
   "execution_count": 3,
   "metadata": {
    "ExecuteTime": {
     "end_time": "2017-10-27T22:45:41.357417Z",
     "start_time": "2017-10-27T22:45:39.530935Z"
    }
   },
   "outputs": [],
   "source": [
    "accident_data = pd.read_csv(accident_file, usecols=['Accident_Index','Urban_or_Rural_Area'])"
   ]
  },
  {
   "cell_type": "code",
   "execution_count": 4,
   "metadata": {
    "ExecuteTime": {
     "end_time": "2017-10-27T22:45:41.538964Z",
     "start_time": "2017-10-27T22:45:41.487869Z"
    }
   },
   "outputs": [
    {
     "name": "stdout",
     "output_type": "stream",
     "text": [
      "Fraction of accidents in urban area:  0.6426569108684217\n"
     ]
    }
   ],
   "source": [
    "urban_accidents = accident_data[accident_data['Urban_or_Rural_Area'] == 1]['Urban_or_Rural_Area']\n",
    "fraction_urban = len(urban_accidents)/accident_data.shape[0]\n",
    "print(\"Fraction of accidents in urban area: \",fraction_urban)"
   ]
  },
  {
   "cell_type": "markdown",
   "metadata": {},
   "source": [
    "---\n",
    "<br>\n",
    "**Q.ii) When is the most dangerous time to drive? Find the hour of the day that has the highest occurance of fatal accidents, normalized by the total number of accidents that occured in that hour. For your answer, submit the corresponding frequency of fatal accidents to all accidents in that hour. Note: round accident times down. For example, if an accident occured at 23:55 it occured in hour 23.**"
   ]
  },
  {
   "cell_type": "code",
   "execution_count": 26,
   "metadata": {
    "ExecuteTime": {
     "end_time": "2017-10-29T20:49:32.208051Z",
     "start_time": "2017-10-29T20:49:30.566150Z"
    }
   },
   "outputs": [],
   "source": [
    "time_data       = pd.read_csv(accident_file, usecols=['Accident_Severity','Time'])\n",
    "time_data       = time_data.dropna()\n",
    "fatal_time_data = time_data[time_data['Accident_Severity'] == 1]"
   ]
  },
  {
   "cell_type": "code",
   "execution_count": 27,
   "metadata": {
    "ExecuteTime": {
     "end_time": "2017-10-29T20:49:33.911208Z",
     "start_time": "2017-10-29T20:49:32.259713Z"
    }
   },
   "outputs": [],
   "source": [
    "hour_data = pd.DataFrame(time_data['Time'].str.split(':').tolist(), columns='hour minute'.split())\n",
    "fatal_hour_data = pd.DataFrame(fatal_time_data['Time'].str.split(':').tolist(), columns='hour minute'.split())"
   ]
  },
  {
   "cell_type": "code",
   "execution_count": 28,
   "metadata": {
    "ExecuteTime": {
     "end_time": "2017-10-29T20:49:34.728785Z",
     "start_time": "2017-10-29T20:49:33.964383Z"
    }
   },
   "outputs": [
    {
     "data": {
      "image/png": "[encoded data removed]",
      "text/plain": [
       "<matplotlib.figure.Figure at 0x7ff14fbbcf60>"
      ]
     },
     "metadata": {},
     "output_type": "display_data"
    },
    {
     "data": {
      "image/png": "[encoded data removed]",
      "text/plain": [
       "<matplotlib.figure.Figure at 0x7ff14d7a09e8>"
      ]
     },
     "metadata": {},
     "output_type": "display_data"
    }
   ],
   "source": [
    "plt.scatter(hour_data['hour'].value_counts().index, hour_data['hour'].value_counts(), color='b')\n",
    "plt.title('Total Accidents Per Hour')\n",
    "plt.xlabel('Hour')\n",
    "plt.ylabel('Accidents')\n",
    "plt.show()\n",
    "\n",
    "plt.scatter(fatal_hour_data['hour'].value_counts().index, fatal_hour_data['hour'].value_counts(), color='r')\n",
    "plt.title('Total Fatal Accidents Per Hour')\n",
    "plt.xlabel('Hour')\n",
    "plt.ylabel('Fatal Accidents')\n",
    "plt.show()"
   ]
  },
  {
   "cell_type": "code",
   "execution_count": 29,
   "metadata": {
    "ExecuteTime": {
     "end_time": "2017-10-29T20:49:35.022390Z",
     "start_time": "2017-10-29T20:49:34.789135Z"
    }
   },
   "outputs": [
    {
     "name": "stdout",
     "output_type": "stream",
     "text": [
      "Hour with highest occurence of fatal accidents is: 17\n",
      "Hour with highest occurence of total accidents is: 17\n"
     ]
    }
   ],
   "source": [
    "print(\"Hour with highest occurence of fatal accidents is:\", fatal_hour_data['hour'].value_counts().index[0])\n",
    "print(\"Hour with highest occurence of total accidents is:\", hour_data['hour'].value_counts().index[0])"
   ]
  },
  {
   "cell_type": "code",
   "execution_count": 30,
   "metadata": {
    "ExecuteTime": {
     "end_time": "2017-10-29T20:49:35.335024Z",
     "start_time": "2017-10-29T20:49:35.079445Z"
    }
   },
   "outputs": [
    {
     "name": "stdout",
     "output_type": "stream",
     "text": [
      "Frequency of fatal accidents to all accidents in that hour:  0.0100207016554\n"
     ]
    }
   ],
   "source": [
    "print(\"Frequency of fatal accidents to all accidents in that hour: \",fatal_hour_data['hour'].value_counts()[0]/hour_data['hour'].value_counts()[0])"
   ]
  },
  {
   "cell_type": "markdown",
   "metadata": {},
   "source": [
    "---\n",
    "<br>\n",
    "**Q.iii) There appears to be a linear trend in the number of accidents that occur each year. What is that trend?**"
   ]
  },
  {
   "cell_type": "code",
   "execution_count": 3,
   "metadata": {
    "ExecuteTime": {
     "end_time": "2017-10-28T20:29:26.478337Z",
     "start_time": "2017-10-28T20:29:25.177269Z"
    }
   },
   "outputs": [],
   "source": [
    "accident_data = pd.read_csv(accident_file, usecols=['Date'])"
   ]
  },
  {
   "cell_type": "code",
   "execution_count": 4,
   "metadata": {
    "ExecuteTime": {
     "end_time": "2017-10-28T20:29:28.516309Z",
     "start_time": "2017-10-28T20:29:26.522746Z"
    },
    "scrolled": true
   },
   "outputs": [],
   "source": [
    "accident_year = pd.DataFrame(accident_data['Date'].str.split('/').tolist(), columns='month day year'.split())['year']"
   ]
  },
  {
   "cell_type": "code",
   "execution_count": 5,
   "metadata": {
    "ExecuteTime": {
     "end_time": "2017-10-28T20:29:32.687976Z",
     "start_time": "2017-10-28T20:29:28.569129Z"
    }
   },
   "outputs": [
    {
     "data": {
      "image/png": "[encoded data removed]",
      "text/plain": [
       "<matplotlib.figure.Figure at 0x7f619473a208>"
      ]
     },
     "metadata": {},
     "output_type": "display_data"
    }
   ],
   "source": [
    "accidents_per_year = []\n",
    "for i in np.unique(accident_year):\n",
    "    accidents_per_year.append(len(accident_year[accident_year == i]))\n",
    "\n",
    "plt.scatter(np.unique(accident_year), accidents_per_year, color='b')\n",
    "plt.title('Accidents Per Year')\n",
    "plt.xlabel('Year')\n",
    "plt.ylabel('Accidents')\n",
    "plt.show()"
   ]
  },
  {
   "cell_type": "code",
   "execution_count": 6,
   "metadata": {
    "ExecuteTime": {
     "end_time": "2017-10-28T20:29:32.851703Z",
     "start_time": "2017-10-28T20:29:32.759847Z"
    }
   },
   "outputs": [
    {
     "name": "stdout",
     "output_type": "stream",
     "text": [
      "The slope of accidents per year is:  -6511.72727273\n"
     ]
    }
   ],
   "source": [
    "slope, intercept = np.polyfit([i for i in range(2005,2015)], accidents_per_year, 1)\n",
    "print(\"The slope of accidents per year is: \",slope)"
   ]
  },
  {
   "cell_type": "markdown",
   "metadata": {},
   "source": [
    "---\n",
    "<br>**Q.iv) Do accidents in high-speed-limit areas have more casualties? Compute the Pearson correlation coefficient between the speed limit and the ratio of the number of casualties to accidents for each speed limit. Bin the data by speed limit.**"
   ]
  },
  {
   "cell_type": "markdown",
   "metadata": {},
   "source": [
    "---\n",
    "<br>**Q.v) How many times more likely are you to be in an accident where you skid, jackknife, or overturn (as opposed to an accident where you don't) when it's raining or snowing compared to nice weather with no high winds? Ignore accidents where the weather is unknown or missing.**"
   ]
  },
  {
   "cell_type": "code",
   "execution_count": 19,
   "metadata": {
    "ExecuteTime": {
     "end_time": "2017-10-27T20:25:00.571706Z",
     "start_time": "2017-10-27T20:24:58.755983Z"
    }
   },
   "outputs": [],
   "source": [
    "skiddingOverturning_data = pd.read_csv(vehicles_file, usecols=['Accident_Index','Skidding_and_Overturning'])"
   ]
  },
  {
   "cell_type": "code",
   "execution_count": 50,
   "metadata": {
    "ExecuteTime": {
     "end_time": "2017-10-27T20:54:03.394390Z",
     "start_time": "2017-10-27T20:54:03.003581Z"
    }
   },
   "outputs": [
    {
     "name": "stdout",
     "output_type": "stream",
     "text": [
      "1. Intersection between skid and (skid+overturn)?:  True\n",
      "2. Intersection between Jackknife and (overturn+jackknife)?:  True\n",
      "3. Intersection between (Other cause(s)) and (missing data)?:  True\n",
      "\n",
      "hmm...I don't why 3. is True!\n",
      "\n"
     ]
    }
   ],
   "source": [
    "accident_unknown     = skiddingOverturning_data[skiddingOverturning_data['Skidding_and_Overturning'] == -1]\n",
    "accident_other_cause = skiddingOverturning_data[skiddingOverturning_data['Skidding_and_Overturning'] == 0]\n",
    "\n",
    "skid          = skiddingOverturning_data[skiddingOverturning_data['Skidding_and_Overturning'] == 1]\n",
    "skid_overturn = skiddingOverturning_data[skiddingOverturning_data['Skidding_and_Overturning'] == 2]\n",
    "overturn      = skiddingOverturning_data[skiddingOverturning_data['Skidding_and_Overturning'] == 5]\n",
    "jack_overturn = skiddingOverturning_data[skiddingOverturning_data['Skidding_and_Overturning'] == 4]\n",
    "jack          = skiddingOverturning_data[skiddingOverturning_data['Skidding_and_Overturning'] == 3]\n",
    "\n",
    "print(\"1. Intersection between skid and (skid+overturn)?: \",bool(set(skid['Accident_Index']) & set(skid_overturn['Accident_Index'])))\n",
    "print(\"2. Intersection between Jackknife and (overturn+jackknife)?: \",bool(set(jack['Accident_Index']) & set(jack_overturn['Accident_Index'])))\n",
    "print(\"3. Intersection between (Other cause(s)) and (missing data)?: \",bool(set(accident_unknown['Accident_Index']) & set(accident_other_cause['Accident_Index'])))\n",
    "print(\"\\nhmm...I don't why 3. is True!\\n\")"
   ]
  },
  {
   "cell_type": "markdown",
   "metadata": {},
   "source": [
    "- As there is intersection between various sets, we have to remove duplicates while taking union!"
   ]
  },
  {
   "cell_type": "code",
   "execution_count": 39,
   "metadata": {
    "ExecuteTime": {
     "end_time": "2017-10-27T20:47:01.578171Z",
     "start_time": "2017-10-27T20:47:01.466051Z"
    }
   },
   "outputs": [],
   "source": [
    "skid_overturn_jack = (pd.concat([skid,overturn,jack])).drop_duplicates(['Accident_Index'])"
   ]
  },
  {
   "cell_type": "code",
   "execution_count": 51,
   "metadata": {
    "ExecuteTime": {
     "end_time": "2017-10-27T20:54:09.455327Z",
     "start_time": "2017-10-27T20:54:09.446549Z"
    }
   },
   "outputs": [
    {
     "name": "stdout",
     "output_type": "stream",
     "text": [
      "Probability of accident where you (skid or jackknife or overturn)/(Other cause(s)):  0.11830181101352405\n"
     ]
    }
   ],
   "source": [
    "prob_known_to_other = len(skid_overturn_jack)/len(accident_other_cause)\n",
    "print(\"Probability of accident where you (skid or jackknife or overturn)/(Other cause(s)): \",prob_known_to_other)"
   ]
  },
  {
   "cell_type": "code",
   "execution_count": 23,
   "metadata": {
    "ExecuteTime": {
     "end_time": "2017-10-27T20:25:08.271939Z",
     "start_time": "2017-10-27T20:25:06.534605Z"
    }
   },
   "outputs": [],
   "source": [
    "weather_data = pd.read_csv(accident_file, usecols=['Accident_Index','Weather_Conditions'])"
   ]
  },
  {
   "cell_type": "markdown",
   "metadata": {},
   "source": [
    "- We have to compare (Rain + Snow with/without wind) and (Nice weather + No high wind)"
   ]
  },
  {
   "cell_type": "code",
   "execution_count": 57,
   "metadata": {
    "ExecuteTime": {
     "end_time": "2017-10-27T21:02:44.654193Z",
     "start_time": "2017-10-27T21:02:38.494568Z"
    }
   },
   "outputs": [],
   "source": [
    "rain_snow_wind = weather_data[(weather_data['Weather_Conditions'].isin([2,3,5,6])) & (weather_data['Accident_Index'].isin(skid_overturn_jack['Accident_Index']))]\n",
    "nice_no_wind   = weather_data[(weather_data['Weather_Conditions'].isin([1,8])) & (weather_data['Accident_Index'].isin(accident_other_cause['Accident_Index']))]"
   ]
  },
  {
   "cell_type": "markdown",
   "metadata": {},
   "source": [
    "- rain_snow_wind: Accidents when there is (rain+snow+with/without wind) & (skid + jackknifed + overtuned)\n",
    "- nice_no_wind  : Accidents when there is ((nice weather + No high wind) + Other) & (some other cause of accident)"
   ]
  },
  {
   "cell_type": "code",
   "execution_count": 58,
   "metadata": {
    "ExecuteTime": {
     "end_time": "2017-10-27T21:02:45.034475Z",
     "start_time": "2017-10-27T21:02:45.031767Z"
    }
   },
   "outputs": [
    {
     "name": "stdout",
     "output_type": "stream",
     "text": [
      "Probability of (rain_snow_wind)/(nice_no_wind):  0.05575176445368569\n"
     ]
    }
   ],
   "source": [
    "print(\"Probability of (rain_snow_wind)/(nice_no_wind): \",len(rain_snow_wind)/len(nice_no_wind))"
   ]
  },
  {
   "cell_type": "markdown",
   "metadata": {},
   "source": [
    "---\n",
    "<br>**Q.vi) How many times more likely are accidents involving male car drivers to be fatal compared to accidents involving female car drivers? The answer should be the ratio of fatality rates of males to females. Ignore all accidents where the driver wasn't driving a car.**"
   ]
  },
  {
   "cell_type": "code",
   "execution_count": 5,
   "metadata": {
    "ExecuteTime": {
     "end_time": "2017-10-27T21:59:40.781487Z",
     "start_time": "2017-10-27T21:59:37.119117Z"
    }
   },
   "outputs": [],
   "source": [
    "accidentSeverity = pd.read_csv(accident_file, usecols=['Accident_Index','Accident_Severity'])\n",
    "driverGender     = pd.read_csv(vehicles_file, usecols=['Accident_Index','Vehicle_Type','Sex_of_Driver'])"
   ]
  },
  {
   "cell_type": "code",
   "execution_count": 6,
   "metadata": {
    "ExecuteTime": {
     "end_time": "2017-10-27T21:59:46.083941Z",
     "start_time": "2017-10-27T21:59:40.896180Z"
    }
   },
   "outputs": [],
   "source": [
    "fatalAccidents = accidentSeverity[(accidentSeverity['Accident_Severity'] == 1)]\n",
    "\n",
    "fatalMales   = driverGender[(driverGender['Sex_of_Driver'] == 1) & (driverGender['Vehicle_Type'] != 9) & (driverGender['Accident_Index'].isin(fatalAccidents['Accident_Index']))]\n",
    "fatalFemales = driverGender[(driverGender['Sex_of_Driver'] == 2) & (driverGender['Vehicle_Type'] != 9) & (driverGender['Accident_Index'].isin(fatalAccidents['Accident_Index']))]"
   ]
  },
  {
   "cell_type": "code",
   "execution_count": 7,
   "metadata": {
    "ExecuteTime": {
     "end_time": "2017-10-27T21:59:46.320414Z",
     "start_time": "2017-10-27T21:59:46.316717Z"
    }
   },
   "outputs": [
    {
     "name": "stdout",
     "output_type": "stream",
     "text": [
      "Ratio of fatality rates of males to females (when driver wasn't driving car):  21.334405144694532\n"
     ]
    }
   ],
   "source": [
    "print(\"Ratio of fatality rates of males to females (when driver wasn't driving car): \", fatalMales.shape[0]/fatalFemales.shape[0])"
   ]
  },
  {
   "cell_type": "markdown",
   "metadata": {},
   "source": [
    "---\n",
    "<br>**Q.vii) We can use the accident locations to estimate the areas of the police districts. Represent each as an ellipse with semi-axes given by a single standard deviation of the longitude and latitude. What is the area, in square kilometers, of the largest district measured in this manner?**"
   ]
  },
  {
   "cell_type": "markdown",
   "metadata": {},
   "source": [
    "---\n",
    "<br>**Q.viii) How fast do the number of car accidents drop off with age? Only consider car drivers who are legally allowed to drive in the UK (17 years or older). Find the rate at which the number of accidents exponentially decays with age. Age is measured in years. Assume that the number of accidents is exponentially distributed with age for driver's over the age of 17.**"
   ]
  },
  {
   "cell_type": "code",
   "execution_count": 58,
   "metadata": {
    "ExecuteTime": {
     "end_time": "2017-10-28T20:27:06.576414Z",
     "start_time": "2017-10-28T20:27:04.532802Z"
    }
   },
   "outputs": [],
   "source": [
    "driver_data = pd.read_csv(vehicles_file, usecols=['Accident_Index','Vehicle_Type','Age_of_Driver', 'Age_Band_of_Driver'])"
   ]
  },
  {
   "cell_type": "code",
   "execution_count": 59,
   "metadata": {
    "ExecuteTime": {
     "end_time": "2017-10-28T20:27:06.764645Z",
     "start_time": "2017-10-28T20:27:06.688293Z"
    }
   },
   "outputs": [],
   "source": [
    "carDrivers_above17 = driver_data[(driver_data['Vehicle_Type'] == 9) & (driver_data['Age_of_Driver'] >= 17)]"
   ]
  },
  {
   "cell_type": "code",
   "execution_count": 61,
   "metadata": {
    "ExecuteTime": {
     "end_time": "2017-10-28T20:27:56.928570Z",
     "start_time": "2017-10-28T20:27:56.760494Z"
    }
   },
   "outputs": [
    {
     "data": {
      "image/png": "[encoded data removed]",
      "text/plain": [
       "<matplotlib.figure.Figure at 0x7f557d4cc550>"
      ]
     },
     "metadata": {},
     "output_type": "display_data"
    }
   ],
   "source": [
    "plt.scatter(carDrivers_above17['Age_of_Driver'].value_counts().index, carDrivers_above17['Age_of_Driver'].value_counts(), color='g',marker ='x')\n",
    "plt.title('Rate of decay of accidents with Age')\n",
    "plt.xlabel('Age')\n",
    "plt.ylabel('Frequency')\n",
    "plt.show()"
   ]
  },
  {
   "cell_type": "code",
   "execution_count": 5,
   "metadata": {
    "ExecuteTime": {
     "end_time": "2017-10-28T19:02:37.898414Z",
     "start_time": "2017-10-28T19:02:36.560359Z"
    }
   },
   "outputs": [],
   "source": [
    "from scipy.optimize import curve_fit"
   ]
  },
  {
   "cell_type": "markdown",
   "metadata": {},
   "source": [
    "---\n",
    "\n",
    "---\n",
    "# Q3.\n",
    "**Propose a project to do while at The Data Incubator. We want to know about your ability to think at a high level. Try to think of projects that users or businesses will care about that are also relatively unanalyzed. Here are some useful links about data sources on our blog as well as the archive of data sources on Data is Plural. You can see some final projects of previous Fellows on our YouTube Page.**\n",
    "\n",
    "**Propose a project that uses a large, publicly accessible dataset. Explain your motivation for tackling this problem, discuss the data source(s) you are using, and explain the analysis you are performing. At a minimum, you will need to do enough exploratory data analysis to convince someone that the project is viable and generate two interesting non-trivial plots supporting this. The most impressive applicants have even finished a \"rough draft\" of their projects and have derived non-obvious meaningful conclusions from their data. Explain the plots and give url links to them. For guidance on how to choose a project, check out this blog post.**"
   ]
  },
  {
   "cell_type": "markdown",
   "metadata": {},
   "source": [
    "**We want to know your communication style. Record a video of yourself giving a high-level proposal of your project to a non-technical person. The video should be no longer than 1 minute and should be at a higher level than the previous explanation.**\n",
    "\n",
    "**Record a video of yourself and upload it to YouTube (and not another video hosting service). Be sure to make the video unlisted (but not private!) so people without the link cannot find it on Google (go here, click \"Edit\" on your video, select unlisted from the privacy dropdown menu, and save your changes). You can use either your webcam or a smartphone.**\n",
    "\n",
    "**Once complete, please provide the embed URL of the video. To find this URL (NOT the entire iframe tag), on the video's normal watch page, you can click Share → Embed, and take the link from inside the 'src' attribute of the tag. Please provide the EMBED URL to your video***"
   ]
  },
  {
   "cell_type": "code",
   "execution_count": null,
   "metadata": {},
   "outputs": [],
   "source": []
  }
 ],
 "metadata": {
  "kernelspec": {
   "display_name": "Python 3",
   "language": "python",
   "name": "python3"
  },
  "language_info": {
   "codemirror_mode": {
    "name": "ipython",
    "version": 3
   },
   "file_extension": ".py",
   "mimetype": "text/x-python",
   "name": "python",
   "nbconvert_exporter": "python",
   "pygments_lexer": "ipython3",
   "version": "3.5.2"
  },
  "toc": {
   "nav_menu": {},
   "number_sections": true,
   "sideBar": true,
   "skip_h1_title": false,
   "toc_cell": false,
   "toc_position": {},
   "toc_section_display": "block",
   "toc_window_display": false
  },
  "varInspector": {
   "cols": {
    "lenName": 16,
    "lenType": 16,
    "lenVar": 40
   },
   "kernels_config": {
    "python": {
     "delete_cmd_postfix": "",
     "delete_cmd_prefix": "del ",
     "library": "var_list.py",
     "varRefreshCmd": "print(var_dic_list())"
    },
    "r": {
     "delete_cmd_postfix": ") ",
     "delete_cmd_prefix": "rm(",
     "library": "var_list.r",
     "varRefreshCmd": "cat(var_dic_list()) "
    }
   },
   "position": {
    "height": "253px",
    "left": "1303px",
    "right": "20px",
    "top": "121px",
    "width": "428px"
   },
   "types_to_exclude": [
    "module",
    "function",
    "builtin_function_or_method",
    "instance",
    "_Feature"
   ],
   "window_display": false
  }
 },
 "nbformat": 4,
 "nbformat_minor": 2
}
